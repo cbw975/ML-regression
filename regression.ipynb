{
 "cells": [
  {
   "cell_type": "markdown",
   "metadata": {},
   "source": [
    "# Name: Chloe Wohlgemuth\n",
    "### COSC247\n",
    "### Regression Assignment"
   ]
  },
  {
   "cell_type": "markdown",
   "metadata": {},
   "source": [
    "## Assignment Instructions\n",
    "Use any regression method (but not logistic regression, which is not actually a regression method!) to produce a model for data of your choosing.\n",
    "\n",
    "You must use a dataset with at least 500 instances, and you cannot use the Boston housing dataset used in class. You may use the same dataset as a fellow student, as long as you don't use the same dataset and perform the same analysis as anyone else, as far as you know. You should include your dataset with your submission.\n",
    "\n",
    "Your notebook should perform at least the following steps:\n",
    "- Read in your data.\n",
    "- Divide the data into training and testing sets.\n",
    "- Train a regression model on the training set.\n",
    "- Report the R^2 value of the trained model on the training and testing sets.\n",
    "\n",
    "Include the following information in markdown cells in your notebook:\n",
    "- A description of the data that you are using\n",
    "- A description of regression task that you are training your models to perform\n",
    "- A description of the regression method that you are using\n",
    "- Your assessment of the quality and usefulness of the results\n",
    "\n",
    "Although you are only required to turn in the results of one model, trained with one set of parameters, you are encouraged to experiment with more and to report on the results of those experiments.\n",
    "\n",
    "You are encouraged to collaborate with classmates in completing this assignment, but you should acknowledge all help that you have received in your notebook file.\n",
    "\n",
    "You can assume that your code will be run in a Python 3.8 environment in which numpy, matplotlib, pandas, scikit-learn, gplearn, and pyshgp have been installed. Do not assume or require the installation of any other libraries.\n",
    "\n",
    "Your should submit your notebook (.ipynb) file, your data file (probably a .csv file), and any other files that your code requires."
   ]
  },
  {
   "cell_type": "markdown",
   "metadata": {},
   "source": [
    "## Dataset Info\n",
    "This is a dataset that consists of various features of NASA confirmed planets. The pertinent ones are:\n",
    "* Orbital Period [days]\n",
    "* Orbit Semi-Major Axis [au]\n",
    "* Stellar Mass [solar mass]\n",
    "\n",
    "#### Source\n",
    "Data was produced by the NASA Exoplanet Archive: http://exoplanetarchive.ipac.caltech.edu\n",
    "* Confirmed planets --> https://exoplanetarchive.ipac.caltech.edu/cgi-bin/TblView/nph-tblView?app=ExoTbls&config=planets\n",
    "* Downloaded the table as a CSV file --> My file name: planets_2020.09.03_20.35.38.csv\n",
    "* BUT, for ease of filename usage, I renamed to: planets090320.csv\n",
    "\n",
    "## Purpose\n",
    "The purpose in studying this dataset is to classify and compare planetary systems, specifically with regards to their quantitative properties. Plotting and relating these properties can provide insight on the interactions and correlations between them. This can be an important task because of the different properties, compositions, behaviors, etc. of different classes (i.e. by mass or orbital behaviors) of planets. This has effects on their motion, aging, reactions (chemical, atmospheric, etc), interactions with space and bodies around them, etc. Our very understanding of the universe can be based on our studies of the different celestial bodies. \n",
    "\n",
    "We train a Linear Regression Gradient Descent model to regress a planet's orbital period based on semi-major axis and solar mass. Linear regression is a linear approach to modelling the relationship between a dependent variable and one or more independent variables. Gradient descent is an iterative optimization algorithm to find the minimum of a function; Here, taht function is the distance or \"offness\" between the data and the (linear) model.\n",
    "\n",
    "Our data will include each planet's (features) semi-major axis (a) and solar mass (M), from which the target is orbital period\n",
    "\n",
    "![period axis relation](https://wikimedia.org/api/rest_v1/media/math/render/svg/5b194cc4755850e6ca14bcc1adc14ecb089b81bf)\n"
   ]
  },
  {
   "cell_type": "code",
   "execution_count": 1,
   "metadata": {},
   "outputs": [],
   "source": [
    "import matplotlib.pyplot as plt\n",
    "%matplotlib inline\n",
    "import numpy as np\n",
    "import pandas as pd\n",
    "from sklearn import datasets\n",
    "from sklearn.preprocessing import StandardScaler\n",
    "from sklearn.model_selection import train_test_split\n",
    "from sklearn.metrics import r2_score\n",
    "from sklearn.metrics import mean_squared_error"
   ]
  },
  {
   "cell_type": "markdown",
   "metadata": {},
   "source": [
    "## Process Dataset"
   ]
  },
  {
   "cell_type": "code",
   "execution_count": 2,
   "metadata": {},
   "outputs": [
    {
     "name": "stdout",
     "output_type": "stream",
     "text": [
      "Number of Data Points: 1293\n",
      "Number of Training Points: 775\n",
      "Number of Testing Points: 518\n"
     ]
    }
   ],
   "source": [
    "#read in the data, skipping the first 73 rows of ancillary information\n",
    "data = pd.read_csv('planets090320.csv', skiprows=76)\n",
    "data = data[data['pl_bmassj']<13]\n",
    "data = data[data['pl_orbper']<15000]\n",
    "\n",
    "#drop rows with NaN values in these columns\n",
    "data = data.dropna(subset = ['pl_orbsmax','pl_orbper','st_mass'])\n",
    "data = data.reset_index()\n",
    "\n",
    "#find the indices of all planet entries\n",
    "inds = [j for j in range(len(data)) if data['pl_bmassj'][j]<13]\n",
    "\n",
    "# dataframes for plotting\n",
    "y = data['pl_orbper'].to_numpy() # Orbital Period (index 7)\n",
    "X = data.iloc[inds,[11,63]].to_numpy() # semi-major axis and Solar Mass\n",
    "\n",
    "X_train, X_test, y_train, y_test = train_test_split(\n",
    "    X, y, test_size=0.4, random_state=1)\n",
    "\n",
    "print(\"Number of Data Points: \" + str(len(X)))\n",
    "print(\"Number of Training Points: \" + str(len(X_train)))\n",
    "print(\"Number of Testing Points: \" + str(len(X_test)))"
   ]
  },
  {
   "cell_type": "markdown",
   "metadata": {},
   "source": [
    "## Plot Dataset"
   ]
  },
  {
   "cell_type": "code",
   "execution_count": 3,
   "metadata": {},
   "outputs": [
    {
     "data": {
      "image/png": "[encoded data removed]",
      "text/plain": [
       "<Figure size 432x288 with 1 Axes>"
      ]
     },
     "metadata": {
      "needs_background": "light"
     },
     "output_type": "display_data"
    }
   ],
   "source": [
    "# plot data\n",
    "plt.scatter(x=X[:,0], y=X[:,1])\n",
    "plt.xlabel('Semi-Major Axis (au)')\n",
    "plt.ylabel('Stellar Mass [solar mass]')\n",
    "plt.show()"
   ]
  },
  {
   "cell_type": "markdown",
   "metadata": {},
   "source": [
    "## Training LinearRegressionGD"
   ]
  },
  {
   "cell_type": "code",
   "execution_count": 4,
   "metadata": {},
   "outputs": [
    {
     "name": "stdout",
     "output_type": "stream",
     "text": [
      "MSE train: 0.083, test: 0.290\n",
      "R^2 train: 0.917, test: 0.867\n"
     ]
    }
   ],
   "source": [
    "sc = StandardScaler()\n",
    "sc.fit(X_train)\n",
    "X_train_std = sc.transform(X_train)\n",
    "X_test_std = sc.transform(X_test)\n",
    "\n",
    "sc_y = StandardScaler()\n",
    "sc_y.fit(y_train[:, np.newaxis])\n",
    "y_train_std = sc_y.transform(y_train[:, np.newaxis]).flatten()\n",
    "y_test_std = sc_y.transform(y_test[:, np.newaxis]).flatten()\n",
    "\n",
    "##################\n",
    "\n",
    "class LinearRegressionGD(object):\n",
    "\n",
    "    def __init__(self, eta=0.001, n_iter=20):\n",
    "        self.eta = eta\n",
    "        self.n_iter = n_iter\n",
    "\n",
    "    def fit(self, X, y):\n",
    "        self.w_ = np.zeros(1 + X.shape[1])\n",
    "        self.cost_ = []\n",
    "\n",
    "        for i in range(self.n_iter):\n",
    "            output = self.net_input(X)\n",
    "            errors = (y - output)\n",
    "            self.w_[1:] += self.eta * X.T.dot(errors)\n",
    "            self.w_[0] += self.eta * errors.sum()\n",
    "            cost = (errors**2).sum() / 2.0\n",
    "            self.cost_.append(cost)\n",
    "        return self\n",
    "\n",
    "    def net_input(self, X):\n",
    "        return np.dot(X, self.w_[1:]) + self.w_[0]\n",
    "\n",
    "    def predict(self, X):\n",
    "        return self.net_input(X)\n",
    "    \n",
    "est = LinearRegressionGD()\n",
    "est.fit(X_train_std, y_train_std)\n",
    "\n",
    "##################\n",
    "\n",
    "y_train_pred = est.predict(X_train_std)\n",
    "y_test_pred = est.predict(X_test_std)\n",
    "\n",
    "print('MSE train: %.3f, test: %.3f' % (\n",
    "        mean_squared_error(y_train_std, y_train_pred),\n",
    "        mean_squared_error(y_test_std, y_test_pred)))\n",
    "print('R^2 train: %.3f, test: %.3f' % (\n",
    "        r2_score(y_train_std, y_train_pred),\n",
    "        r2_score(y_test_std, y_test_pred)))"
   ]
  },
  {
   "cell_type": "markdown",
   "metadata": {},
   "source": [
    "## Results Summary\n",
    "The mean squared error tells you how close a regression line is to a set of points. It does this by taking the distances from the points to the regression line (these distances are the “errors”) and squaring them. The MSE for the training data (0.083) is very low and relatively low , indicating that the regression model does well in representing the data relationship. \n",
    "\n",
    "The R^2 value is a goodness-of-fit measure for regression models. It indicates the percentage of the variance in the dependent variable that the independent variables explain collectively. The strength of this model to dependent variable relationship is on a 0–100% scale. The linear regression GD model strongly represented the training set, with 91.7%, and adaquately represented the testing set, with 86.7%. \n",
    "\n",
    "Both statistics illustrate that the model performed less well with the testing set than training set, but both were pretty well represented. There may have been arguably a recognizable, though not conclusively significant, deviation based on the MSE measure."
   ]
  },
  {
   "cell_type": "code",
   "execution_count": null,
   "metadata": {},
   "outputs": [],
   "source": []
  }
 ],
 "metadata": {
  "kernelspec": {
   "display_name": "Python 3",
   "language": "python",
   "name": "python3"
  },
  "language_info": {
   "codemirror_mode": {
    "name": "ipython",
    "version": 3
   },
   "file_extension": ".py",
   "mimetype": "text/x-python",
   "name": "python",
   "nbconvert_exporter": "python",
   "pygments_lexer": "ipython3",
   "version": "3.7.6"
  }
 },
 "nbformat": 4,
 "nbformat_minor": 2
}
